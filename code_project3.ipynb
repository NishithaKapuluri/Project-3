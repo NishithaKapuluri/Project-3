{
 "cells": [
  {
   "cell_type": "code",
   "execution_count": 6,
   "id": "a85cdd35",
   "metadata": {},
   "outputs": [
    {
     "name": "stdout",
     "output_type": "stream",
     "text": [
      "Recommended courses for user1:\n",
      "- Python Programming\n",
      "- Machine Learning Fundamentals\n"
     ]
    }
   ],
   "source": [
    "class RecommendationEngine:\n",
    "    def __init__(self, user_data, course_data):\n",
    "        self.user_data = user_data\n",
    "        self.course_data = course_data\n",
    "\n",
    "    def recommend_courses(self, user_id, num_recommendations=3):\n",
    "        # Placeholder recommendation algorithm (random selection for demonstration)\n",
    "        import random\n",
    "        user_interests = self.user_data.get(user_id, [])\n",
    "        recommended_courses = []\n",
    "        for _ in range(num_recommendations):\n",
    "            course = random.choice(self.course_data)\n",
    "            if course not in recommended_courses and course['topic'] in user_interests:\n",
    "                recommended_courses.append(course)\n",
    "        return recommended_courses\n",
    "\n",
    "# Sample user and course data\n",
    "user_data = {\n",
    "    'user1': ['programming', 'data science'],\n",
    "    'user2': ['mathematics', 'physics'],\n",
    "    'user3': ['biology', 'chemistry']\n",
    "}\n",
    "\n",
    "course_data = [\n",
    "    {'course_id': 1, 'title': 'Python Programming', 'topic': 'programming'},\n",
    "    {'course_id': 2, 'title': 'Machine Learning Fundamentals', 'topic': 'data science'},\n",
    "    {'course_id': 3, 'title': 'Calculus I', 'topic': 'mathematics'},\n",
    "    {'course_id': 4, 'title': 'Introduction to Physics', 'topic': 'physics'},\n",
    "    {'course_id': 5, 'title': 'Biology Basics', 'topic': 'biology'},\n",
    "    {'course_id': 6, 'title': 'Chemistry Essentials', 'topic': 'chemistry'}\n",
    "]\n",
    "\n",
    "# Instantiate RecommendationEngine\n",
    "recommendation_engine = RecommendationEngine(user_data, course_data)\n",
    "\n",
    "# Get recommendations for user1\n",
    "user_id = 'user1'\n",
    "recommended_courses = recommendation_engine.recommend_courses(user_id)\n",
    "print(f\"Recommended courses for {user_id}:\")\n",
    "for course in recommended_courses:\n",
    "    print(f\"- {course['title']}\")\n",
    "\n"
   ]
  }
 ],
 "metadata": {
  "kernelspec": {
   "display_name": "Python 3 (ipykernel)",
   "language": "python",
   "name": "python3"
  },
  "language_info": {
   "codemirror_mode": {
    "name": "ipython",
    "version": 3
   },
   "file_extension": ".py",
   "mimetype": "text/x-python",
   "name": "python",
   "nbconvert_exporter": "python",
   "pygments_lexer": "ipython3",
   "version": "3.9.7"
  }
 },
 "nbformat": 4,
 "nbformat_minor": 5
}
